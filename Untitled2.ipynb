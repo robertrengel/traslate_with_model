{
  "nbformat": 4,
  "nbformat_minor": 0,
  "metadata": {
    "colab": {
      "provenance": [],
      "authorship_tag": "ABX9TyMc26EZ8TysCrHGk2KXCBZO",
      "include_colab_link": true
    },
    "kernelspec": {
      "name": "python3",
      "display_name": "Python 3"
    },
    "language_info": {
      "name": "python"
    }
  },
  "cells": [
    {
      "cell_type": "markdown",
      "metadata": {
        "id": "view-in-github",
        "colab_type": "text"
      },
      "source": [
        "<a href=\"https://colab.research.google.com/github/robertrengel/traslate_with_model/blob/main/Untitled2.ipynb\" target=\"_parent\"><img src=\"https://colab.research.google.com/assets/colab-badge.svg\" alt=\"Open In Colab\"/></a>"
      ]
    },
    {
      "cell_type": "code",
      "source": [
        "!pip install pdfminer\n",
        "!pip install pdfminer.six"
      ],
      "metadata": {
        "id": "OqF8TQNKpR8_"
      },
      "execution_count": null,
      "outputs": []
    },
    {
      "cell_type": "code",
      "source": [
        "from pdfminer.pdfinterp import PDFResourceManager, PDFPageInterpreter\n",
        "from pdfminer.converter import TextConverter\n",
        "from pdfminer.layout import LAParams\n",
        "from pdfminer.pdfpage import PDFPage\n",
        "from io import StringIO, BytesIO\n",
        "from pdfminer.pdfdocument import PDFDocument\n",
        "from pdfminer.pdfparser import PDFParser\n",
        "from pdfminer.converter import HTMLConverter"
      ],
      "metadata": {
        "id": "L_KhXvNNqOqi"
      },
      "execution_count": 12,
      "outputs": []
    },
    {
      "cell_type": "code",
      "source": [
        "from google.colab import files\n",
        "text = files.upload()\n",
        "print(text)\n",
        "filename = list(text.keys())[0]\n",
        "print(filename)"
      ],
      "metadata": {
        "id": "z3lLw1bwrDyP"
      },
      "execution_count": null,
      "outputs": []
    },
    {
      "cell_type": "code",
      "source": [
        "with open(filename, 'rb') as file:\n",
        "    pdf = file.read()\n",
        "    resource_manager = PDFResourceManager()\n",
        "    html_converter = HTMLConverter(resource_manager, BytesIO())\n",
        "    page_interpreter = PDFPageInterpreter(resource_manager, html_converter)\n",
        "    for page in PDFPage.get_pages(BytesIO(pdf)):\n",
        "      page_interpreter.process_page(page)\n",
        "    html = html_converter.get_result().getvalue()\n",
        "    print(html)\n",
        "\n",
        "\n"
      ],
      "metadata": {
        "id": "7Rpi3hhct0To"
      },
      "execution_count": null,
      "outputs": []
    },
    {
      "cell_type": "code",
      "source": [
        "output_string = StringIO()\n",
        "with open(filename, 'rb') as in_file:\n",
        "    parser = PDFParser(in_file)\n",
        "    doc = PDFDocument(parser)\n",
        "    rsrcmgr = PDFResourceManager()\n",
        "    device = TextConverter(rsrcmgr, output_string, laparams=LAParams())\n",
        "    interpreter = PDFPageInterpreter(rsrcmgr, device)\n",
        "    for page in PDFPage.create_pages(doc):\n",
        "        interpreter.process_page(page)\n",
        "\n",
        "print(output_string.getvalue())"
      ],
      "metadata": {
        "id": "4o5Uxf31p2dA"
      },
      "execution_count": null,
      "outputs": []
    },
    {
      "cell_type": "code",
      "execution_count": null,
      "metadata": {
        "id": "r5E3esjFouJ0"
      },
      "outputs": [],
      "source": [
        "def extract_text_with_formatting(pdf_path):\n",
        "    resource_manager = PDFResourceManager()\n",
        "    string_io = StringIO()\n",
        "    device = TextConverter(resource_manager, string_io, laparams=LAParams())\n",
        "    interpreter = PDFPageInterpreter(resource_manager, device)\n",
        "    \n",
        "    with open(pdf_path, 'rb') as file:\n",
        "        for page in PDFPage.get_pages(file, caching=True, check_extractable=True):\n",
        "            interpreter.process_page(page)\n",
        "    \n",
        "    text = string_io.getvalue()\n",
        "    device.close()\n",
        "    string_io.close()\n",
        "    \n",
        "    return text"
      ]
    },
    {
      "cell_type": "code",
      "source": [
        "text = extract_text_with_formatting(filename)"
      ],
      "metadata": {
        "id": "bWZbbRN0qalS"
      },
      "execution_count": null,
      "outputs": []
    },
    {
      "cell_type": "code",
      "source": [
        "print(text)"
      ],
      "metadata": {
        "id": "FDwU6aQ5uY0_"
      },
      "execution_count": null,
      "outputs": []
    },
    {
      "cell_type": "code",
      "source": [
        "with open('libro_texto.txt', 'w', encoding='utf-8') as file:\n",
        "    file.write(text)"
      ],
      "metadata": {
        "id": "mcM5ft34vW8Y"
      },
      "execution_count": null,
      "outputs": []
    },
    {
      "cell_type": "code",
      "source": [
        "files.download(\"libro_texto.txt\")"
      ],
      "metadata": {
        "colab": {
          "base_uri": "https://localhost:8080/",
          "height": 17
        },
        "id": "zRf1Et4Uv7iZ",
        "outputId": "08dff58c-c01f-4e8f-fdb4-331d79c3d587"
      },
      "execution_count": null,
      "outputs": [
        {
          "output_type": "display_data",
          "data": {
            "text/plain": [
              "<IPython.core.display.Javascript object>"
            ],
            "application/javascript": [
              "\n",
              "    async function download(id, filename, size) {\n",
              "      if (!google.colab.kernel.accessAllowed) {\n",
              "        return;\n",
              "      }\n",
              "      const div = document.createElement('div');\n",
              "      const label = document.createElement('label');\n",
              "      label.textContent = `Downloading \"${filename}\": `;\n",
              "      div.appendChild(label);\n",
              "      const progress = document.createElement('progress');\n",
              "      progress.max = size;\n",
              "      div.appendChild(progress);\n",
              "      document.body.appendChild(div);\n",
              "\n",
              "      const buffers = [];\n",
              "      let downloaded = 0;\n",
              "\n",
              "      const channel = await google.colab.kernel.comms.open(id);\n",
              "      // Send a message to notify the kernel that we're ready.\n",
              "      channel.send({})\n",
              "\n",
              "      for await (const message of channel.messages) {\n",
              "        // Send a message to notify the kernel that we're ready.\n",
              "        channel.send({})\n",
              "        if (message.buffers) {\n",
              "          for (const buffer of message.buffers) {\n",
              "            buffers.push(buffer);\n",
              "            downloaded += buffer.byteLength;\n",
              "            progress.value = downloaded;\n",
              "          }\n",
              "        }\n",
              "      }\n",
              "      const blob = new Blob(buffers, {type: 'application/binary'});\n",
              "      const a = document.createElement('a');\n",
              "      a.href = window.URL.createObjectURL(blob);\n",
              "      a.download = filename;\n",
              "      div.appendChild(a);\n",
              "      a.click();\n",
              "      div.remove();\n",
              "    }\n",
              "  "
            ]
          },
          "metadata": {}
        },
        {
          "output_type": "display_data",
          "data": {
            "text/plain": [
              "<IPython.core.display.Javascript object>"
            ],
            "application/javascript": [
              "download(\"download_c36ef55e-142a-40a2-81c0-bf0490cad055\", \"libro_texto.txt\", 211511)"
            ]
          },
          "metadata": {}
        }
      ]
    }
  ]
}